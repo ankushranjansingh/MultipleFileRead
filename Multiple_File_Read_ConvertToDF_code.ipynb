{
 "cells": [
  {
   "cell_type": "code",
   "execution_count": 23,
   "metadata": {
    "scrolled": true
   },
   "outputs": [],
   "source": [
    "import pandas as pd\n",
    "import numpy as np\n",
    "import matplotlib.pyplot as plt\n",
    "#to show graph in notebook\n",
    "%matplotlib inline  \n",
    "import glob\n",
    "import os"
   ]
  },
  {
   "cell_type": "code",
   "execution_count": 31,
   "metadata": {},
   "outputs": [
    {
     "name": "stdout",
     "output_type": "stream",
     "text": [
      "Resultant CSV after joining all CSV files at a particular location...\n",
      "     # Columns: time  avg_rss12  var_rss12  avg_rss13  var_rss13  avg_rss23  \\\n",
      "0                  0      32.00       4.85      17.50       3.35      22.50   \n",
      "1                250      40.50       1.12      14.00       2.24      21.75   \n",
      "2                500      40.50       2.60      11.33       4.50      18.25   \n",
      "3                750      34.50       1.50      20.67       2.87      19.00   \n",
      "4               1000      34.50       1.50      21.25       3.27      18.25   \n",
      "..               ...        ...        ...        ...        ...        ...   \n",
      "955           118750      42.33       0.47       6.67       3.77      20.33   \n",
      "956           119000      43.00       1.41      11.67       2.49      14.00   \n",
      "957           119250      36.75       1.09      16.75       3.03      21.50   \n",
      "958           119500      36.33       0.47      20.33       2.05      20.50   \n",
      "959           119750      35.25       1.30      16.50       1.12      22.75   \n",
      "\n",
      "     var_rss23  \n",
      "0         3.20  \n",
      "1         1.30  \n",
      "2         5.31  \n",
      "3         2.83  \n",
      "4         4.38  \n",
      "..         ...  \n",
      "955       0.47  \n",
      "956       5.10  \n",
      "957       2.60  \n",
      "958       2.18  \n",
      "959       2.17  \n",
      "\n",
      "[960 rows x 7 columns]\n"
     ]
    }
   ],
   "source": [
    "# setting the path for joining multiple files\n",
    "files = os.path.join(\"C:\\\\Users\\\\ankussingh\\\\Documents\\\\Ankush\\\\cycling\\\\\",\"dataset*.csv\")\n",
    "\n",
    "# list of merged files returned\n",
    "files = glob.glob(files)\n",
    "\n",
    "print(\"Resultant CSV after joining all CSV files at a particular location...\");\n",
    "\n",
    "# joining files with concat and read_csv\n",
    "df = pd.concat(map(pd.read_csv,files), ignore_index=True)\n",
    "print(df)"
   ]
  },
  {
   "cell_type": "code",
   "execution_count": 32,
   "metadata": {},
   "outputs": [
    {
     "data": {
      "text/html": [
       "<div>\n",
       "<style scoped>\n",
       "    .dataframe tbody tr th:only-of-type {\n",
       "        vertical-align: middle;\n",
       "    }\n",
       "\n",
       "    .dataframe tbody tr th {\n",
       "        vertical-align: top;\n",
       "    }\n",
       "\n",
       "    .dataframe thead th {\n",
       "        text-align: right;\n",
       "    }\n",
       "</style>\n",
       "<table border=\"1\" class=\"dataframe\">\n",
       "  <thead>\n",
       "    <tr style=\"text-align: right;\">\n",
       "      <th></th>\n",
       "      <th># Columns: time</th>\n",
       "      <th>avg_rss12</th>\n",
       "      <th>var_rss12</th>\n",
       "      <th>avg_rss13</th>\n",
       "      <th>var_rss13</th>\n",
       "      <th>avg_rss23</th>\n",
       "      <th>var_rss23</th>\n",
       "    </tr>\n",
       "  </thead>\n",
       "  <tbody>\n",
       "    <tr>\n",
       "      <th>0</th>\n",
       "      <td>0</td>\n",
       "      <td>32.0</td>\n",
       "      <td>4.85</td>\n",
       "      <td>17.50</td>\n",
       "      <td>3.35</td>\n",
       "      <td>22.50</td>\n",
       "      <td>3.20</td>\n",
       "    </tr>\n",
       "    <tr>\n",
       "      <th>1</th>\n",
       "      <td>250</td>\n",
       "      <td>40.5</td>\n",
       "      <td>1.12</td>\n",
       "      <td>14.00</td>\n",
       "      <td>2.24</td>\n",
       "      <td>21.75</td>\n",
       "      <td>1.30</td>\n",
       "    </tr>\n",
       "    <tr>\n",
       "      <th>2</th>\n",
       "      <td>500</td>\n",
       "      <td>40.5</td>\n",
       "      <td>2.60</td>\n",
       "      <td>11.33</td>\n",
       "      <td>4.50</td>\n",
       "      <td>18.25</td>\n",
       "      <td>5.31</td>\n",
       "    </tr>\n",
       "    <tr>\n",
       "      <th>3</th>\n",
       "      <td>750</td>\n",
       "      <td>34.5</td>\n",
       "      <td>1.50</td>\n",
       "      <td>20.67</td>\n",
       "      <td>2.87</td>\n",
       "      <td>19.00</td>\n",
       "      <td>2.83</td>\n",
       "    </tr>\n",
       "    <tr>\n",
       "      <th>4</th>\n",
       "      <td>1000</td>\n",
       "      <td>34.5</td>\n",
       "      <td>1.50</td>\n",
       "      <td>21.25</td>\n",
       "      <td>3.27</td>\n",
       "      <td>18.25</td>\n",
       "      <td>4.38</td>\n",
       "    </tr>\n",
       "  </tbody>\n",
       "</table>\n",
       "</div>"
      ],
      "text/plain": [
       "   # Columns: time  avg_rss12  var_rss12  avg_rss13  var_rss13  avg_rss23  \\\n",
       "0                0       32.0       4.85      17.50       3.35      22.50   \n",
       "1              250       40.5       1.12      14.00       2.24      21.75   \n",
       "2              500       40.5       2.60      11.33       4.50      18.25   \n",
       "3              750       34.5       1.50      20.67       2.87      19.00   \n",
       "4             1000       34.5       1.50      21.25       3.27      18.25   \n",
       "\n",
       "   var_rss23  \n",
       "0       3.20  \n",
       "1       1.30  \n",
       "2       5.31  \n",
       "3       2.83  \n",
       "4       4.38  "
      ]
     },
     "execution_count": 32,
     "metadata": {},
     "output_type": "execute_result"
    }
   ],
   "source": [
    "df.head()\n"
   ]
  },
  {
   "cell_type": "code",
   "execution_count": null,
   "metadata": {},
   "outputs": [],
   "source": []
  }
 ],
 "metadata": {
  "kernelspec": {
   "display_name": "Python 3 (ipykernel)",
   "language": "python",
   "name": "python3"
  },
  "language_info": {
   "codemirror_mode": {
    "name": "ipython",
    "version": 3
   },
   "file_extension": ".py",
   "mimetype": "text/x-python",
   "name": "python",
   "nbconvert_exporter": "python",
   "pygments_lexer": "ipython3",
   "version": "3.9.12"
  }
 },
 "nbformat": 4,
 "nbformat_minor": 2
}
